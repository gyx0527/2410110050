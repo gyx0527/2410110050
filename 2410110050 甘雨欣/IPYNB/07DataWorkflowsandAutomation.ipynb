{
 "cells": [
  {
   "cell_type": "code",
   "execution_count": 1,
   "metadata": {},
   "outputs": [
    {
     "name": "stdout",
     "output_type": "stream",
     "text": [
      "['lion', 'tiger', 'crocodile', 'vulture', 'hippo']\n"
     ]
    }
   ],
   "source": [
    "animals = ['lion', 'tiger', 'crocodile', 'vulture', 'hippo']\n",
    "print(animals)"
   ]
  },
  {
   "cell_type": "code",
   "execution_count": 2,
   "metadata": {},
   "outputs": [
    {
     "name": "stdout",
     "output_type": "stream",
     "text": [
      "lion\n",
      "tiger\n",
      "crocodile\n",
      "vulture\n",
      "hippo\n"
     ]
    }
   ],
   "source": [
    "for creature in animals:\n",
    "    print(creature)"
   ]
  },
  {
   "cell_type": "code",
   "execution_count": 3,
   "metadata": {},
   "outputs": [],
   "source": [
    "animals = ['lion', 'tiger', 'crocodile', 'vulture', 'hippo']\n",
    "for creature in animals:\n",
    "    pass"
   ]
  },
  {
   "cell_type": "code",
   "execution_count": 4,
   "metadata": {},
   "outputs": [
    {
     "name": "stdout",
     "output_type": "stream",
     "text": [
      "The loop variable is now: hippo\n"
     ]
    }
   ],
   "source": [
    "print('The loop variable is now: ' + creature)"
   ]
  },
  {
   "cell_type": "code",
   "execution_count": 5,
   "metadata": {},
   "outputs": [
    {
     "ename": "SyntaxError",
     "evalue": "unexpected EOF while parsing (<ipython-input-5-3e5445e46d23>, line 2)",
     "output_type": "error",
     "traceback": [
      "\u001b[1;36m  File \u001b[1;32m\"<ipython-input-5-3e5445e46d23>\"\u001b[1;36m, line \u001b[1;32m2\u001b[0m\n\u001b[1;33m    for creature in animals:\u001b[0m\n\u001b[1;37m                            ^\u001b[0m\n\u001b[1;31mSyntaxError\u001b[0m\u001b[1;31m:\u001b[0m unexpected EOF while parsing\n"
     ]
    }
   ],
   "source": [
    "animals = ['lion', 'tiger', 'crocodile', 'vulture', 'hippo']\n",
    "for creature in animals:"
   ]
  },
  {
   "cell_type": "code",
   "execution_count": 6,
   "metadata": {},
   "outputs": [
    {
     "name": "stdout",
     "output_type": "stream",
     "text": [
      "lion,tiger,crocodile,vulture,hippo,"
     ]
    }
   ],
   "source": [
    "for creature in animals:\n",
    "    print(creature + ',', end='')"
   ]
  },
  {
   "cell_type": "code",
   "execution_count": 7,
   "metadata": {},
   "outputs": [
    {
     "data": {
      "text/plain": [
       "'lion, tiger, crocodile, vulture, hippo'"
      ]
     },
     "execution_count": 7,
     "metadata": {},
     "output_type": "execute_result"
    }
   ],
   "source": [
    "', '.join(animals)"
   ]
  },
  {
   "cell_type": "code",
   "execution_count": 9,
   "metadata": {},
   "outputs": [],
   "source": [
    "import os\n",
    "\n",
    "os.mkdir('yearly_files')"
   ]
  },
  {
   "cell_type": "code",
   "execution_count": 12,
   "metadata": {},
   "outputs": [
    {
     "data": {
      "text/plain": [
       "['.conda',\n",
       " '.ipynb_checkpoints',\n",
       " '.ipython',\n",
       " '.matplotlib',\n",
       " '.python_history',\n",
       " '03startingwithdata.ipynb',\n",
       " '04IndexingSlicingandSubsettingDataFrameinPython.ipynb',\n",
       " '05DataTypesandFormats.ipynb',\n",
       " '06CombiningDataFrameswithPandas.ipynb',\n",
       " '07DataWorkflowsandAutomation.ipynb',\n",
       " '3D Objects',\n",
       " 'AppData',\n",
       " 'Application Data',\n",
       " 'Contacts',\n",
       " 'Cookies',\n",
       " 'Desktop',\n",
       " 'Documents',\n",
       " 'Downloads',\n",
       " 'Favorites',\n",
       " 'IntelGraphicsProfiles',\n",
       " 'Links',\n",
       " 'Local Settings',\n",
       " 'Music',\n",
       " 'My Documents',\n",
       " 'NetHood',\n",
       " 'NTUSER.DAT',\n",
       " 'ntuser.dat.LOG1',\n",
       " 'ntuser.dat.LOG2',\n",
       " 'NTUSER.DAT{fd9a35db-49fe-11e9-aa2c-248a07783950}.TM.blf',\n",
       " 'NTUSER.DAT{fd9a35db-49fe-11e9-aa2c-248a07783950}.TMContainer00000000000000000001.regtrans-ms',\n",
       " 'NTUSER.DAT{fd9a35db-49fe-11e9-aa2c-248a07783950}.TMContainer00000000000000000002.regtrans-ms',\n",
       " 'ntuser.ini',\n",
       " 'OneDrive',\n",
       " 'out.csv',\n",
       " 'Pictures',\n",
       " 'plots.csv',\n",
       " 'PrintHood',\n",
       " 'Recent',\n",
       " 'Saved Games',\n",
       " 'Searches',\n",
       " 'SendTo',\n",
       " 'species.csv',\n",
       " 'surveys.csv',\n",
       " 'surveys_complete.csv',\n",
       " 'Templates',\n",
       " 'Untitled Folder',\n",
       " 'Videos',\n",
       " 'yearly_files',\n",
       " '「开始」菜单']"
      ]
     },
     "execution_count": 12,
     "metadata": {},
     "output_type": "execute_result"
    }
   ],
   "source": [
    "os.listdir('./') #文件都保存在根目录"
   ]
  },
  {
   "cell_type": "code",
   "execution_count": 13,
   "metadata": {},
   "outputs": [],
   "source": [
    "import pandas as pd\n",
    "\n",
    "# Load the data into a DataFrame\n",
    "surveys_df = pd.read_csv('surveys.csv')"
   ]
  },
  {
   "cell_type": "code",
   "execution_count": 14,
   "metadata": {},
   "outputs": [],
   "source": [
    "# Select only data for the year 2002\n",
    "surveys2002 = surveys_df[surveys_df.year == 2002]"
   ]
  },
  {
   "cell_type": "code",
   "execution_count": 15,
   "metadata": {},
   "outputs": [],
   "source": [
    "# Write the new DataFrame to a CSV file\n",
    "surveys2002.to_csv('yearly_files/surveys2002.csv')"
   ]
  },
  {
   "cell_type": "code",
   "execution_count": 16,
   "metadata": {},
   "outputs": [
    {
     "data": {
      "text/plain": [
       "0        1977\n",
       "1        1977\n",
       "2        1977\n",
       "3        1977\n",
       "4        1977\n",
       "5        1977\n",
       "6        1977\n",
       "7        1977\n",
       "8        1977\n",
       "9        1977\n",
       "10       1977\n",
       "11       1977\n",
       "12       1977\n",
       "13       1977\n",
       "14       1977\n",
       "15       1977\n",
       "16       1977\n",
       "17       1977\n",
       "18       1977\n",
       "19       1977\n",
       "20       1977\n",
       "21       1977\n",
       "22       1977\n",
       "23       1977\n",
       "24       1977\n",
       "25       1977\n",
       "26       1977\n",
       "27       1977\n",
       "28       1977\n",
       "29       1977\n",
       "         ... \n",
       "35519    2002\n",
       "35520    2002\n",
       "35521    2002\n",
       "35522    2002\n",
       "35523    2002\n",
       "35524    2002\n",
       "35525    2002\n",
       "35526    2002\n",
       "35527    2002\n",
       "35528    2002\n",
       "35529    2002\n",
       "35530    2002\n",
       "35531    2002\n",
       "35532    2002\n",
       "35533    2002\n",
       "35534    2002\n",
       "35535    2002\n",
       "35536    2002\n",
       "35537    2002\n",
       "35538    2002\n",
       "35539    2002\n",
       "35540    2002\n",
       "35541    2002\n",
       "35542    2002\n",
       "35543    2002\n",
       "35544    2002\n",
       "35545    2002\n",
       "35546    2002\n",
       "35547    2002\n",
       "35548    2002\n",
       "Name: year, Length: 35549, dtype: int64"
      ]
     },
     "execution_count": 16,
     "metadata": {},
     "output_type": "execute_result"
    }
   ],
   "source": [
    "surveys_df['year']"
   ]
  },
  {
   "cell_type": "code",
   "execution_count": 17,
   "metadata": {},
   "outputs": [
    {
     "data": {
      "text/plain": [
       "array([1977, 1978, 1979, 1980, 1981, 1982, 1983, 1984, 1985, 1986, 1987,\n",
       "       1988, 1989, 1990, 1991, 1992, 1993, 1994, 1995, 1996, 1997, 1998,\n",
       "       1999, 2000, 2001, 2002], dtype=int64)"
      ]
     },
     "execution_count": 17,
     "metadata": {},
     "output_type": "execute_result"
    }
   ],
   "source": [
    "surveys_df['year'].unique()"
   ]
  },
  {
   "cell_type": "code",
   "execution_count": 18,
   "metadata": {},
   "outputs": [
    {
     "name": "stdout",
     "output_type": "stream",
     "text": [
      "data/yearly_files/surveys1977.csv\n",
      "data/yearly_files/surveys1978.csv\n",
      "data/yearly_files/surveys1979.csv\n",
      "data/yearly_files/surveys1980.csv\n",
      "data/yearly_files/surveys1981.csv\n",
      "data/yearly_files/surveys1982.csv\n",
      "data/yearly_files/surveys1983.csv\n",
      "data/yearly_files/surveys1984.csv\n",
      "data/yearly_files/surveys1985.csv\n",
      "data/yearly_files/surveys1986.csv\n",
      "data/yearly_files/surveys1987.csv\n",
      "data/yearly_files/surveys1988.csv\n",
      "data/yearly_files/surveys1989.csv\n",
      "data/yearly_files/surveys1990.csv\n",
      "data/yearly_files/surveys1991.csv\n",
      "data/yearly_files/surveys1992.csv\n",
      "data/yearly_files/surveys1993.csv\n",
      "data/yearly_files/surveys1994.csv\n",
      "data/yearly_files/surveys1995.csv\n",
      "data/yearly_files/surveys1996.csv\n",
      "data/yearly_files/surveys1997.csv\n",
      "data/yearly_files/surveys1998.csv\n",
      "data/yearly_files/surveys1999.csv\n",
      "data/yearly_files/surveys2000.csv\n",
      "data/yearly_files/surveys2001.csv\n",
      "data/yearly_files/surveys2002.csv\n"
     ]
    }
   ],
   "source": [
    "for year in surveys_df['year'].unique():\n",
    "   filename='data/yearly_files/surveys' + str(year) + '.csv'\n",
    "   print(filename)"
   ]
  },
  {
   "cell_type": "code",
   "execution_count": 21,
   "metadata": {},
   "outputs": [],
   "source": [
    "# Load the data into a DataFrame\n",
    "surveys_df = pd.read_csv('surveys.csv')\n",
    "\n",
    "for year in surveys_df['year'].unique():\n",
    "\n",
    "    # Select data for the year\n",
    "    surveys_year = surveys_df[surveys_df.year == year]\n",
    "\n",
    "    # Write the new DataFrame to a CSV file\n",
    "    filename = 'yearly_files/surveys' + str(year) + '.csv'\n",
    "    surveys_year.to_csv(filename)"
   ]
  },
  {
   "cell_type": "code",
   "execution_count": 22,
   "metadata": {},
   "outputs": [],
   "source": [
    "filename = 'yearly_files/surveys' + str(year) + '.csv'"
   ]
  },
  {
   "cell_type": "code",
   "execution_count": 23,
   "metadata": {},
   "outputs": [],
   "source": [
    "surveys_year = surveys_df[surveys_df.year == year].dropna()"
   ]
  },
  {
   "cell_type": "code",
   "execution_count": 24,
   "metadata": {},
   "outputs": [
    {
     "name": "stdout",
     "output_type": "stream",
     "text": [
      "1977\n",
      "1982\n",
      "1987\n",
      "1992\n",
      "1997\n"
     ]
    }
   ],
   "source": [
    "n_year = 5  # better overview by making variable from it\n",
    "first_year = surveys_df['year'].min()\n",
    "last_year = surveys_df['year'].max()\n",
    "\n",
    "for year in range(first_year, last_year, n_year):\n",
    "    print(year)\n",
    "\n",
    "    # Select data for the year\n",
    "    surveys_year = surveys_df[surveys_df.year == year].dropna()"
   ]
  },
  {
   "cell_type": "code",
   "execution_count": 27,
   "metadata": {},
   "outputs": [],
   "source": [
    "for species in surveys_df['species_id'].dropna().unique():\n",
    "    surveys_species = surveys_df[surveys_df.species_id == species]\n",
    "    filename = 'surveys' + species + '.csv'\n",
    "    surveys_species.to_csv(filename)"
   ]
  },
  {
   "cell_type": "code",
   "execution_count": 28,
   "metadata": {},
   "outputs": [],
   "source": [
    "def this_is_the_function_name(input_argument1, input_argument2):\n",
    "    # The body of the function is indented\n",
    "    # This function prints the two arguments to screen\n",
    "    print('The function arguments are:', input_argument1, input_argument2, '(this is done inside the function!)')\n",
    "    \n",
    "    # And returns their product\n",
    "    return input_argument1 * input_argument2"
   ]
  },
  {
   "cell_type": "code",
   "execution_count": 29,
   "metadata": {},
   "outputs": [
    {
     "name": "stdout",
     "output_type": "stream",
     "text": [
      "The function arguments are: 2 5 (this is done inside the function!)\n"
     ]
    }
   ],
   "source": [
    "product_of_inputs = this_is_the_function_name(2, 5)"
   ]
  },
  {
   "cell_type": "code",
   "execution_count": 30,
   "metadata": {},
   "outputs": [
    {
     "name": "stdout",
     "output_type": "stream",
     "text": [
      "Their product is: 10 (this is done outside the function!)\n"
     ]
    }
   ],
   "source": [
    "print('Their product is:', product_of_inputs, '(this is done outside the function!)')"
   ]
  },
  {
   "cell_type": "code",
   "execution_count": 31,
   "metadata": {},
   "outputs": [
    {
     "name": "stdout",
     "output_type": "stream",
     "text": [
      "The function arguments are: 3 clap (this is done inside the function!)\n",
      "clapclapclap\n"
     ]
    }
   ],
   "source": [
    "product_of_inputs = this_is_the_function_name(3, 'clap')\n",
    "print(product_of_inputs)"
   ]
  },
  {
   "cell_type": "code",
   "execution_count": 32,
   "metadata": {},
   "outputs": [
    {
     "ename": "TypeError",
     "evalue": "this_is_the_function_name() takes 2 positional arguments but 3 were given",
     "output_type": "error",
     "traceback": [
      "\u001b[1;31m---------------------------------------------------------------------------\u001b[0m",
      "\u001b[1;31mTypeError\u001b[0m                                 Traceback (most recent call last)",
      "\u001b[1;32m<ipython-input-32-fe6c4bc29afc>\u001b[0m in \u001b[0;36m<module>\u001b[1;34m()\u001b[0m\n\u001b[1;32m----> 1\u001b[1;33m \u001b[0mproduct_of_inputs\u001b[0m \u001b[1;33m=\u001b[0m \u001b[0mthis_is_the_function_name\u001b[0m\u001b[1;33m(\u001b[0m\u001b[1;36m3\u001b[0m\u001b[1;33m,\u001b[0m \u001b[1;36m18\u001b[0m\u001b[1;33m,\u001b[0m \u001b[1;36m33\u001b[0m\u001b[1;33m)\u001b[0m\u001b[1;33m\u001b[0m\u001b[0m\n\u001b[0m",
      "\u001b[1;31mTypeError\u001b[0m: this_is_the_function_name() takes 2 positional arguments but 3 were given"
     ]
    }
   ],
   "source": [
    "product_of_inputs = this_is_the_function_name(3, 18, 33)"
   ]
  },
  {
   "cell_type": "code",
   "execution_count": 33,
   "metadata": {},
   "outputs": [
    {
     "name": "stdout",
     "output_type": "stream",
     "text": [
      "The function arguments are: 23 108 (this is done inside the function!)\n"
     ]
    },
    {
     "data": {
      "text/plain": [
       "2484"
      ]
     },
     "execution_count": 33,
     "metadata": {},
     "output_type": "execute_result"
    }
   ],
   "source": [
    "this_is_the_function_name(23, 108)"
   ]
  },
  {
   "cell_type": "code",
   "execution_count": 35,
   "metadata": {},
   "outputs": [],
   "source": [
    "var_defined_outside = 'outside'\n",
    "def this_is_the_function_name(input_argument1, input_argument2):\n",
    "    var_defined_inside = 'inside'\n",
    "    print('The function arguments are:', input_argument1, input_argument2, '(this is done inside the function!)')\n",
    "    print('This variable was created ' + var_defined_outside + ' the function')\n",
    "    return input_argument1 * input_argument2"
   ]
  },
  {
   "cell_type": "code",
   "execution_count": 36,
   "metadata": {},
   "outputs": [
    {
     "name": "stdout",
     "output_type": "stream",
     "text": [
      "The function arguments are: 3.3 7.9 (this is done inside the function!)\n",
      "This variable was created outside the function\n"
     ]
    },
    {
     "data": {
      "text/plain": [
       "26.07"
      ]
     },
     "execution_count": 36,
     "metadata": {},
     "output_type": "execute_result"
    }
   ],
   "source": [
    "this_is_the_function_name(3.3, 7.9)"
   ]
  },
  {
   "cell_type": "code",
   "execution_count": 38,
   "metadata": {},
   "outputs": [
    {
     "name": "stdout",
     "output_type": "stream",
     "text": [
      "who would I be\n"
     ]
    }
   ],
   "source": [
    "shared_variable_name = 'who would I be'\n",
    "\n",
    "def this_is_the_function_name(input_argument1, input_argument2):\n",
    "    shared_variable_name = 'without you'\n",
    "    print('The function arguments are:', input_argument1, input_argument2, '(this is done inside the function!)')\n",
    "    return input_argument1 * input_argument2\n",
    "\n",
    "print(shared_variable_name)"
   ]
  },
  {
   "cell_type": "code",
   "execution_count": 39,
   "metadata": {},
   "outputs": [
    {
     "name": "stdout",
     "output_type": "stream",
     "text": [
      "The function arguments are: 2 3 (this is done inside the function!)\n"
     ]
    },
    {
     "data": {
      "text/plain": [
       "6"
      ]
     },
     "execution_count": 39,
     "metadata": {},
     "output_type": "execute_result"
    }
   ],
   "source": [
    "this_is_the_function_name(2, 3) # does calling the function change the variable's value?"
   ]
  },
  {
   "cell_type": "code",
   "execution_count": 40,
   "metadata": {},
   "outputs": [
    {
     "name": "stdout",
     "output_type": "stream",
     "text": [
      "who would I be\n"
     ]
    }
   ],
   "source": [
    "print(shared_variable_name)"
   ]
  },
  {
   "cell_type": "code",
   "execution_count": 41,
   "metadata": {},
   "outputs": [
    {
     "name": "stdout",
     "output_type": "stream",
     "text": [
      "without you, without them?\n",
      "The function arguments are: 2 3 (this is done inside the function!)\n"
     ]
    },
    {
     "data": {
      "text/plain": [
       "6"
      ]
     },
     "execution_count": 41,
     "metadata": {},
     "output_type": "execute_result"
    }
   ],
   "source": [
    "def this_is_the_function_name(input_argument1, input_argument2):\n",
    "    shared_variable_name = 'without you'\n",
    "    shared_variable_name = shared_variable_name + ', without them?'\n",
    "    print(shared_variable_name)\n",
    "    print('The function arguments are:', input_argument1, input_argument2, '(this is done inside the function!)')\n",
    "    return input_argument1 * input_argument2\n",
    "\n",
    "this_is_the_function_name(2, 3)"
   ]
  },
  {
   "cell_type": "code",
   "execution_count": 42,
   "metadata": {},
   "outputs": [
    {
     "name": "stdout",
     "output_type": "stream",
     "text": [
      "who would I be\n"
     ]
    }
   ],
   "source": [
    "print(shared_variable_name)"
   ]
  },
  {
   "cell_type": "code",
   "execution_count": 44,
   "metadata": {},
   "outputs": [
    {
     "name": "stdout",
     "output_type": "stream",
     "text": [
      "Help on function one_year_csv_writer in module __main__:\n",
      "\n",
      "one_year_csv_writer(this_year, all_data)\n",
      "    Writes a csv file for data from a given year.\n",
      "    \n",
      "    this_year -- year for which data is extracted\n",
      "    all_data -- DataFrame with multi-year data\n",
      "\n"
     ]
    }
   ],
   "source": [
    "help(one_year_csv_writer)"
   ]
  },
  {
   "cell_type": "code",
   "execution_count": 52,
   "metadata": {},
   "outputs": [
    {
     "name": "stdout",
     "output_type": "stream",
     "text": [
      "a is a positive number\n"
     ]
    }
   ],
   "source": [
    "a = 5\n",
    "\n",
    "if a<0:  # Meets first condition?\n",
    "\n",
    "    # if a IS less than zero\n",
    "    print('a is a negative number')\n",
    "\n",
    "elif a>0:  # Did not meet first condition. meets second condition?\n",
    "\n",
    "    # if a ISN'T less than zero and IS more than zero\n",
    "    print('a is a positive number')\n",
    "\n",
    "else:  # Met neither condition\n",
    "\n",
    "    # if a ISN'T less than zero and ISN'T more than zero\n",
    "    print('a must be zero!')"
   ]
  },
  {
   "cell_type": "code",
   "execution_count": 55,
   "metadata": {},
   "outputs": [],
   "source": [
    "def yearly_data_arg_test(all_data, start_year=None, end_year=None):\n",
    "    \"\"\"\n",
    "    Modified from yearly_data_csv_writer to test default argument values!\n",
    "\n",
    "    all_data -- DataFrame with multi-year data\n",
    "    start_year -- the first year of data we want, Check all_data! (default None)\n",
    "    end_year -- the last year of data we want; Check all_data! (default None)\n",
    "    \"\"\"\n",
    "\n",
    "    if start_year is None:\n",
    "        start_year = min(all_data.year)\n",
    "    if end_year is None:\n",
    "        end_year = max(all_data.year)\n",
    "\n",
    "    return start_year, end_year\n"
   ]
  },
  {
   "cell_type": "code",
   "execution_count": 56,
   "metadata": {},
   "outputs": [
    {
     "name": "stdout",
     "output_type": "stream",
     "text": [
      "No keywords:\t\t\t 1988 1993\n"
     ]
    }
   ],
   "source": [
    "start, end = yearly_data_arg_test(surveys_df, 1988, 1993)\n",
    "print('No keywords:\\t\\t\\t', start, end)\n"
   ]
  },
  {
   "cell_type": "code",
   "execution_count": 57,
   "metadata": {},
   "outputs": [
    {
     "name": "stdout",
     "output_type": "stream",
     "text": [
      "Both keywords, in order:\t 1988 1993\n"
     ]
    }
   ],
   "source": [
    "start, end = yearly_data_arg_test(surveys_df, start_year=1988, end_year=1993)\n",
    "print('Both keywords, in order:\\t', start, end)\n"
   ]
  },
  {
   "cell_type": "code",
   "execution_count": 58,
   "metadata": {},
   "outputs": [
    {
     "name": "stdout",
     "output_type": "stream",
     "text": [
      "Both keywords, flipped:\t\t 1988 1993\n"
     ]
    }
   ],
   "source": [
    "start, end = yearly_data_arg_test(surveys_df, end_year=1993, start_year=1988)\n",
    "print('Both keywords, flipped:\\t\\t', start, end)"
   ]
  },
  {
   "cell_type": "code",
   "execution_count": 59,
   "metadata": {},
   "outputs": [
    {
     "name": "stdout",
     "output_type": "stream",
     "text": [
      "One keyword, default end:\t 1988 2002\n"
     ]
    }
   ],
   "source": [
    "start, end = yearly_data_arg_test(surveys_df, start_year=1988)\n",
    "print('One keyword, default end:\\t', start, end)"
   ]
  },
  {
   "cell_type": "code",
   "execution_count": 60,
   "metadata": {},
   "outputs": [
    {
     "name": "stdout",
     "output_type": "stream",
     "text": [
      "One keyword, default start:\t 1977 1993\n"
     ]
    }
   ],
   "source": [
    "start, end = yearly_data_arg_test(surveys_df, end_year=1993)\n",
    "print('One keyword, default start:\\t', start, end)"
   ]
  },
  {
   "cell_type": "code",
   "execution_count": 62,
   "metadata": {},
   "outputs": [
    {
     "name": "stdout",
     "output_type": "stream",
     "text": [
      "['yearly_files/function_surveys2000.csv', 'yearly_files/function_surveys2001.csv']\n"
     ]
    }
   ],
   "source": [
    "def one_year_csv_writer(this_year, all_data):\n",
    "    \"\"\"\n",
    "    Writes a csv file for data from a given year.\n",
    "\n",
    "    this_year -- year for which data is extracted\n",
    "    all_data -- DataFrame with multi-year data\n",
    "    \"\"\"\n",
    "\n",
    "    # Select data for the year\n",
    "    surveys_year = all_data[all_data.year == this_year]\n",
    "\n",
    "    # Write the new DataFrame to a csv file\n",
    "    filename = 'yearly_files/function_surveys' + str(this_year) + '.csv'\n",
    "    surveys_year.to_csv(filename)\n",
    "    return filename\n",
    "\n",
    "def yearly_data_csv_writer(start_year, end_year, all_data):\n",
    "    \"\"\"\n",
    "    Writes separate CSV files for each year of data.\n",
    "\n",
    "    start_year -- the first year of data we want\n",
    "    end_year -- the last year of data we want\n",
    "    all_data -- DataFrame with multi-year data\n",
    "    \"\"\"\n",
    "\n",
    "    # \"end_year\" is the last year of data we want to pull, so we loop to end_year+1\n",
    "    output_files = []\n",
    "    for year in range(start_year, end_year+1):\n",
    "        output_files.append(one_year_csv_writer(year, all_data))\n",
    "    return output_files\n",
    "\n",
    "print(yearly_data_csv_writer(2000, 2001, surveys_df))"
   ]
  },
  {
   "cell_type": "code",
   "execution_count": 64,
   "metadata": {},
   "outputs": [],
   "source": [
    "def one_year_csv_writer(this_year, all_data, folder_to_save, root_name):\n",
    "    \"\"\"\n",
    "    Writes a csv file for data from a given year.\n",
    "\n",
    "    Parameters\n",
    "    ---------\n",
    "    this_year : int\n",
    "        year for which data is extracted\n",
    "    all_data: pd.DataFrame\n",
    "        DataFrame with multi-year data\n",
    "    folder_to_save : str\n",
    "        folder to save the data files\n",
    "    root_name: str\n",
    "        root of the filenames to save the data\n",
    "    \"\"\"\n",
    "\n",
    "    # Select data for the year\n",
    "    surveys_year = all_data[all_data.year == this_year]\n",
    "\n",
    "    # Write the new DataFrame to a csv file\n",
    "    filename = os.path.join(folder_to_save, ''.join([root_name, str(this_year), '.csv']))\n",
    "    surveys_year.to_csv(filename)\n"
   ]
  },
  {
   "cell_type": "code",
   "execution_count": 65,
   "metadata": {},
   "outputs": [],
   "source": [
    "directory_name = './'"
   ]
  },
  {
   "cell_type": "code",
   "execution_count": 66,
   "metadata": {},
   "outputs": [],
   "source": [
    "root_file_name = '123'"
   ]
  },
  {
   "cell_type": "code",
   "execution_count": 67,
   "metadata": {},
   "outputs": [],
   "source": [
    "for year in range(start_year, end_year+1):\n",
    "     one_year_csv_writer(year, surveys_df, directory_name, root_file_name)"
   ]
  },
  {
   "cell_type": "code",
   "execution_count": null,
   "metadata": {},
   "outputs": [],
   "source": []
  }
 ],
 "metadata": {
  "kernelspec": {
   "display_name": "Python 3",
   "language": "python",
   "name": "python3"
  },
  "language_info": {
   "codemirror_mode": {
    "name": "ipython",
    "version": 3
   },
   "file_extension": ".py",
   "mimetype": "text/x-python",
   "name": "python",
   "nbconvert_exporter": "python",
   "pygments_lexer": "ipython3",
   "version": "3.7.0"
  }
 },
 "nbformat": 4,
 "nbformat_minor": 2
}
